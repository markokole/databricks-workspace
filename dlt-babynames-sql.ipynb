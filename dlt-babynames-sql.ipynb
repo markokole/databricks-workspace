{
 "cells": [
  {
   "cell_type": "code",
   "execution_count": 0,
   "metadata": {
    "application/vnd.databricks.v1+cell": {
     "cellMetadata": {},
     "inputWidgets": {},
     "nuid": "67861b61-61de-43ff-bfc4-fd2f1ad76581",
     "showTitle": false,
     "tableResultSettingsMap": {},
     "title": ""
    }
   },
   "outputs": [],
   "source": [
    "CREATE OR REFRESH STREAMING TABLE baby_names_raw_sql\n",
    "COMMENT \"Popular baby first names in New York. This data was ingested from the New York State Department of Health.\"\n",
    "AS SELECT Year, `First Name` AS First_Name, County, Sex, Count\n",
    "FROM STREAM(read_files(\n",
    "  '/Volumes/${my_catalog}/${my_schema}/${my_volume}/',\n",
    "  format => 'csv',\n",
    "  header => true,\n",
    "  mode => 'FAILFAST'));"
   ]
  },
  {
   "cell_type": "code",
   "execution_count": 0,
   "metadata": {
    "application/vnd.databricks.v1+cell": {
     "cellMetadata": {},
     "inputWidgets": {},
     "nuid": "a2e5308d-6943-4375-9723-94785bb67c90",
     "showTitle": false,
     "tableResultSettingsMap": {},
     "title": ""
    }
   },
   "outputs": [],
   "source": [
    "CREATE OR REFRESH MATERIALIZED VIEW baby_names_prepared_sql(\n",
    "  CONSTRAINT valid_first_name EXPECT (First_Name IS NOT NULL),\n",
    "  CONSTRAINT valid_count EXPECT (Count > 0) ON VIOLATION FAIL UPDATE\n",
    ")\n",
    "COMMENT \"New York popular baby first name data cleaned and prepared for analysis.\"\n",
    "AS SELECT\n",
    "  Year AS Year_Of_Birth,\n",
    "  First_Name,\n",
    "  Count\n",
    "FROM LIVE.baby_names_raw;"
   ]
  },
  {
   "cell_type": "code",
   "execution_count": 0,
   "metadata": {
    "application/vnd.databricks.v1+cell": {
     "cellMetadata": {},
     "inputWidgets": {},
     "nuid": "7e3347a5-53fd-4a3d-966a-87f068c82f4d",
     "showTitle": false,
     "tableResultSettingsMap": {},
     "title": ""
    }
   },
   "outputs": [],
   "source": [
    "CREATE OR REFRESH MATERIALIZED VIEW top_baby_names_2021_sql\n",
    "COMMENT \"A table summarizing counts of the top baby names for New York for 2021.\"\n",
    "AS SELECT\n",
    "  First_Name,\n",
    "  SUM(Count) AS Total_Count\n",
    "FROM LIVE.baby_names_prepared\n",
    "WHERE Year_Of_Birth = 2021\n",
    "GROUP BY First_Name\n",
    "ORDER BY Total_Count DESC\n",
    "LIMIT 10;"
   ]
  }
 ],
 "metadata": {
  "application/vnd.databricks.v1+notebook": {
   "computePreferences": null,
   "dashboards": [],
   "environmentMetadata": null,
   "inputWidgetPreferences": null,
   "language": "sql",
   "notebookMetadata": {
    "pythonIndentUnit": 4
   },
   "notebookName": "dlt-babynames-sql",
   "widgets": {}
  },
  "language_info": {
   "name": "sql"
  }
 },
 "nbformat": 4,
 "nbformat_minor": 0
}